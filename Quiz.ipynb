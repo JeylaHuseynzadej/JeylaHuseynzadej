{
  "nbformat": 4,
  "nbformat_minor": 0,
  "metadata": {
    "colab": {
      "name": "Quiz.ipynb",
      "provenance": [],
      "authorship_tag": "ABX9TyMDlFMY35nvZ6m3nwF0T5tm",
      "include_colab_link": true
    },
    "kernelspec": {
      "name": "python3",
      "display_name": "Python 3"
    },
    "language_info": {
      "name": "python"
    }
  },
  "cells": [
    {
      "cell_type": "markdown",
      "metadata": {
        "id": "view-in-github",
        "colab_type": "text"
      },
      "source": [
        "<a href=\"https://colab.research.google.com/github/JeylaHuseynzadej/JeylaHuseynzadej/blob/main/Quiz.ipynb\" target=\"_parent\"><img src=\"https://colab.research.google.com/assets/colab-badge.svg\" alt=\"Open In Colab\"/></a>"
      ]
    },
    {
      "cell_type": "code",
      "execution_count": null,
      "metadata": {
        "id": "7gnqFGL5cnkq"
      },
      "outputs": [],
      "source": [
        "#@title Текст заголовка по умолчанию\n",
        "# Question\n",
        "class Question:\n",
        "    def __init__(self,text,choices,answer):\n",
        "        self.text = text\n",
        "        self.choices = choices\n",
        "        self.answer = answer\n",
        "    \n",
        "    def checkAnswer(self, answer):\n",
        "        return self.answer == answer\n",
        "\n",
        "# Quiz\n",
        "class Quiz:\n",
        "    def __init__(self, questions):\n",
        "        self.questions = questions\n",
        "        self.score = 0\n",
        "        self.questionIndex = 0\n",
        "\n",
        "    def getQuestion(self):\n",
        "        return self.questions[self.questionIndex]\n",
        "\n",
        "    def displayQuestion(self):\n",
        "        question = self.getQuestion()\n",
        "        print(f'Soru {self.questionIndex + 1}: {question.text}')\n",
        "\n",
        "        for q in question.choices:\n",
        "            print('-'+ q)\n",
        "        \n",
        "        answer = input('cevap: ')\n",
        "        self.guess(answer)\n",
        "        self.loadQuestion()\n",
        "\n",
        "    def guess(self, answer):\n",
        "        question = self.getQuestion()\n",
        "\n",
        "        if question.checkAnswer(answer):\n",
        "            self.score += 1\n",
        "        self.questionIndex += 1\n",
        "\n",
        "    def loadQuestion(self):\n",
        "        if len(self.questions) == self.questionIndex:\n",
        "            self.showScore()\n",
        "        else:         \n",
        "            self.displayProgress()  \n",
        "            self.displayQuestion()\n",
        "\n",
        "    def showScore(self):\n",
        "        print('score: ', self.score)\n",
        "\n",
        "    def displayProgress(self):\n",
        "        totalQuestion = len(self.questions)\n",
        "        questionNumber = self.questionIndex + 1\n",
        "        if questionNumber > totalQuestion:\n",
        "            print('Quiz bitti.')\n",
        "        else:\n",
        "            print(f'Question {questionNumber} of {totalQuestion}'.center(100,'*'))\n",
        "\n",
        "q1 = Question('en iyi programlama dili hangidir ?', ['C#','python','javascript','java'], 'python')\n",
        "q2 = Question('en popüler programlama dili hangidir ?', ['python','javascript','C#','java'], 'python')\n",
        "q3 = Question('en çok kazandıran programlama dili hangidir ?', ['C#','javascript','java','python'], 'python')\n",
        "q4 = Question('en çok sevilen programlama dili hangidir ?', ['C#','javascript','java','python'], 'python')\n",
        "q5 = Question('en kolay programlama dili hangidir ?', ['C#','javascript','java','python'], 'python')\n",
        "\n",
        "questions = [q1,q2,q3,q4,q5]\n",
        "\n",
        "quiz = Quiz(questions)\n",
        "\n",
        "\n",
        "quiz.loadQuestion()"
      ]
    },
    {
      "cell_type": "code",
      "source": [
        ""
      ],
      "metadata": {
        "id": "_8jkUmwMkJ_S"
      },
      "execution_count": null,
      "outputs": []
    }
  ]
}