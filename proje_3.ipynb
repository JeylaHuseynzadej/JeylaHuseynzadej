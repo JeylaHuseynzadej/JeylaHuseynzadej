{
  "nbformat": 4,
  "nbformat_minor": 0,
  "metadata": {
    "colab": {
      "name": "Копия блокнота \"Untitled1.ipynb\"",
      "provenance": [],
      "collapsed_sections": [],
      "authorship_tag": "ABX9TyO3PaaIKwfzAEG1hbG9bZzW",
      "include_colab_link": true
    },
    "kernelspec": {
      "name": "python3",
      "display_name": "Python 3"
    },
    "language_info": {
      "name": "python"
    }
  },
  "cells": [
    {
      "cell_type": "markdown",
      "metadata": {
        "id": "view-in-github",
        "colab_type": "text"
      },
      "source": [
        "<a href=\"https://colab.research.google.com/github/JeylaHuseynzadej/JeylaHuseynzadej/blob/main/proje_3.ipynb\" target=\"_parent\"><img src=\"https://colab.research.google.com/assets/colab-badge.svg\" alt=\"Open In Colab\"/></a>"
      ]
    },
    {
      "cell_type": "code",
      "execution_count": null,
      "metadata": {
        "id": "T5XZ1uk15G2D"
      },
      "outputs": [],
      "source": [
        "def sinav():\n",
        "  quest=[\"En iyi programlama dili hangidir ?\",\"En popüler programlama dili hangidir ?\",\"En çok kazandıran programlama dili hangidir ?\"]\n",
        "  ans=[\"JavaScript\",\"C++\",\"Python\",\"C#\"]\n",
        "  givans=[]\n",
        "  numcor=0\n",
        "  numwr=0\n",
        "  \n",
        "  print(\"You will have 10 seconds per question\")\n",
        "  \n",
        "  for i in range(len(quest)):\n",
        "    print(quest[i])\n",
        "    x=input(\"Your answer here: \")\n",
        "    x.lower()\n",
        "    givans.append(x)\n",
        "    if(ans[i]==givans[i]):\n",
        "      numcor=numcor+1\n",
        "    else:\n",
        "      numwr=numwr+1\n",
        "  print(\"You have: \"+str(numcor)+\" correct answers and \"+str(numwr)+\" wrong answers\")\n",
        "  z=(numcor/len(quest))*100\n",
        "  print(\"{:.2f}\".format(z))\n",
        "  pas=False\n",
        "  if(z>=60):\n",
        "    pas=True\n",
        "  if(pas):\n",
        "    print(\"Congratualtions you win!!\")\n",
        "  else:\n",
        "    print(\"Sorry you didn't pass this time\")\n",
        "    print(\"Do you want to try again? Y/N\")\n",
        "    v=input()\n",
        "    if(v==\"Y\" or v==\"y\"):\n",
        "      sinav()\n",
        "sinav()"
      ]
    }
  ]
}